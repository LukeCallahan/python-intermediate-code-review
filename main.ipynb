{
 "cells": [
  {
   "cell_type": "markdown",
   "metadata": {},
   "source": [
    "1. A function called fourth_place() that takes a list as an argument:\n",
    "\n",
    "- it should return the fourth item in the list\n",
    "\n",
    "- use try/except to catch IndexErrors when a list shorter than four items is passed in"
   ]
  },
  {
   "cell_type": "code",
   "execution_count": null,
   "metadata": {},
   "outputs": [],
   "source": []
  },
  {
   "cell_type": "markdown",
   "metadata": {},
   "source": [
    "2. A lambda function that takes the two integers as arguments, and subtracts the second number from the first\n",
    "\n",
    "- assign a variable called subtracter_lambda to the lambda function\n",
    "\n",
    "- below the variable assignment, call subtracter_lambda"
   ]
  },
  {
   "cell_type": "code",
   "execution_count": null,
   "metadata": {},
   "outputs": [],
   "source": []
  },
  {
   "cell_type": "markdown",
   "metadata": {},
   "source": [
    "3. A class called Shoe that has the following attributes:\n",
    "\n",
    "- US_size: an integer\n",
    "\n",
    "- color: a string\n",
    "\n",
    "- smelly: a Boolean\n",
    "\n",
    "- Shoe should also have a method called euro_size() that converts US_size to European sizing by adding 33, and prints a string saying Euro size\n",
    "\n",
    "Below the class definition, create two instances of Shoe\n",
    "\n",
    "- call the euro_size() method on each instance"
   ]
  },
  {
   "cell_type": "code",
   "execution_count": null,
   "metadata": {},
   "outputs": [],
   "source": []
  },
  {
   "cell_type": "markdown",
   "metadata": {},
   "source": [
    "4. Write a function called galaxy(). galaxy() should take:\n",
    "\n",
    "- a positional argument of the name of the galaxy\n",
    "\n",
    "- a varying number of arguments for objects found in the galaxy, like asteroids and dust\n",
    "\n",
    "- a keyword argument of pluto_is_planet, which defaults to a Boolean of your choice\n",
    "\n",
    "- a varying number of keyword arguments for planets and their color\n",
    "\n",
    "galaxy() should print a paragraph (a string or series of strings) of space facts. It should include:\n",
    "\n",
    "- The name of the galaxy\n",
    "\n",
    "- What the galaxy contains, if the user passed in any arguments\n",
    "\n",
    "- The number of planets passed in a keyword arguments, with the names of the planets and their colors, if the user passed in any keyword arguments\n",
    "\n",
    "Below the function definition, call galaxy(). You're welcome to make up facts.\n",
    "\n"
   ]
  }
 ],
 "metadata": {
  "language_info": {
   "name": "python"
  },
  "orig_nbformat": 4
 },
 "nbformat": 4,
 "nbformat_minor": 2
}
