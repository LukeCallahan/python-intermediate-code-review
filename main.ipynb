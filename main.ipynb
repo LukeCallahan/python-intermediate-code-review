{
 "cells": [
  {
   "cell_type": "markdown",
   "metadata": {},
   "source": [
    "1. A function called fourth_place() that takes a list as an argument:\n",
    "\n",
    "- it should return the fourth item in the list\n",
    "\n",
    "- use try/except to catch IndexErrors when a list shorter than four items is passed in"
   ]
  },
  {
   "cell_type": "code",
   "execution_count": 18,
   "metadata": {},
   "outputs": [
    {
     "name": "stdout",
     "output_type": "stream",
     "text": [
      "Check out who I found lurking around...list index out of range\n"
     ]
    }
   ],
   "source": [
    "my_list = [1, 2, 3, 4, 5, 6, 7, 8]\n",
    "too_short = [0, 1, 2]\n",
    "def fourth_place(list) -> int:\n",
    "  \"\"\"This function will return the fourth item in a list.\n",
    "\n",
    "  Args:\n",
    "      list (_type_): Make sure the list is 4 elements or longer.\n",
    "\n",
    "  Returns:\n",
    "      _type_: This will return the fourth item in a list.\n",
    "  \"\"\"\n",
    "  return list[3]\n",
    "try:\n",
    "  fourth_place(too_short)\n",
    "except IndexError as e:\n",
    "  print(f\"Check out who I found lurking around...{e}\")\n",
    "\n",
    "# fourth_place(my_list)\n",
    "# fourth_place(too_short)\n"
   ]
  },
  {
   "cell_type": "markdown",
   "metadata": {},
   "source": [
    "2. A lambda function that takes the two integers as arguments, and subtracts the second number from the first\n",
    "\n",
    "- assign a variable called subtracter_lambda to the lambda function\n",
    "\n",
    "- below the variable assignment, call subtracter_lambda"
   ]
  },
  {
   "cell_type": "code",
   "execution_count": 20,
   "metadata": {},
   "outputs": [
    {
     "name": "stdout",
     "output_type": "stream",
     "text": [
      "1\n"
     ]
    }
   ],
   "source": [
    "subtracter_lambda = lambda int_1, int_2: int_1 - int_2 \n",
    "print(subtracter_lambda(5, 4))"
   ]
  },
  {
   "cell_type": "markdown",
   "metadata": {},
   "source": [
    "3. A class called Shoe that has the following attributes:\n",
    "\n",
    "- US_size: an integer\n",
    "\n",
    "- color: a string\n",
    "\n",
    "- smelly: a Boolean\n",
    "\n",
    "- Shoe should also have a method called euro_size() that converts US_size to European sizing by adding 33, and prints a string saying Euro size\n",
    "\n",
    "Below the class definition, create two instances of Shoe\n",
    "\n",
    "- call the euro_size() method on each instance"
   ]
  },
  {
   "cell_type": "code",
   "execution_count": 26,
   "metadata": {},
   "outputs": [
    {
     "name": "stdout",
     "output_type": "stream",
     "text": [
      "The European size of this shoe is: 45\n",
      "None\n",
      "The European size of this shoe is: 44\n",
      "None\n"
     ]
    }
   ],
   "source": [
    "class Shoe:\n",
    "  def __init__(self, size = int, color = str, smelly=True) -> None:\n",
    "    self.US_size = size\n",
    "    self.color = color\n",
    "    self.smelly = smelly\n",
    "\n",
    "  def euro_size(self):\n",
    "    self.Euro_size = self.US_size + 33\n",
    "    print(f\"The European size of this shoe is: {self.Euro_size}\")\n",
    "\n",
    "converse = Shoe(12, \"black\", True)\n",
    "rossi = Shoe(11, \"brown\", False)\n",
    "\n",
    "print(converse.euro_size())\n",
    "print(rossi.euro_size())\n"
   ]
  },
  {
   "cell_type": "markdown",
   "metadata": {},
   "source": [
    "4. Write a function called galaxy(). galaxy() should take:\n",
    "\n",
    "- a positional argument of the name of the galaxy\n",
    "\n",
    "- a varying number of arguments for objects found in the galaxy, like asteroids and dust\n",
    "\n",
    "- a keyword argument of pluto_is_planet, which defaults to a Boolean of your choice\n",
    "\n",
    "- a varying number of keyword arguments for planets and their color\n",
    "\n",
    "galaxy() should print a paragraph (a string or series of strings) of space facts. It should include:\n",
    "\n",
    "- The name of the galaxy\n",
    "\n",
    "- What the galaxy contains, if the user passed in any arguments\n",
    "\n",
    "- The number of planets passed in a keyword arguments, with the names of the planets and their colors, if the user passed in any keyword arguments\n",
    "\n",
    "Below the function definition, call galaxy(). You're welcome to make up facts.\n",
    "\n"
   ]
  }
 ],
 "metadata": {
  "kernelspec": {
   "display_name": "Python 3.7.15 64-bit",
   "language": "python",
   "name": "python3"
  },
  "language_info": {
   "codemirror_mode": {
    "name": "ipython",
    "version": 3
   },
   "file_extension": ".py",
   "mimetype": "text/x-python",
   "name": "python",
   "nbconvert_exporter": "python",
   "pygments_lexer": "ipython3",
   "version": "3.7.15"
  },
  "orig_nbformat": 4,
  "vscode": {
   "interpreter": {
    "hash": "e774977668b7c0ae8309835a5187aa7fbf7669e7d0bb59755bc63e573643edcd"
   }
  }
 },
 "nbformat": 4,
 "nbformat_minor": 2
}
